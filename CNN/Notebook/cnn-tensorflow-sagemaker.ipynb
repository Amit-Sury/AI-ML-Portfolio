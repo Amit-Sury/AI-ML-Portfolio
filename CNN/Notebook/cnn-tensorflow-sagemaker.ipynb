{
 "cells": [
  {
   "cell_type": "markdown",
   "id": "41f97601",
   "metadata": {},
   "source": [
    "# Train a multiclass CNN model using tensorflow "
   ]
  },
  {
   "cell_type": "markdown",
   "id": "22e2e2d1",
   "metadata": {},
   "source": [
    "Step 1: Import the required packages. "
   ]
  },
  {
   "cell_type": "code",
   "execution_count": null,
   "id": "c961b0b7",
   "metadata": {},
   "outputs": [],
   "source": [
    "import sagemaker\n",
    "\n",
    "sess = sagemaker.Session()\n",
    "role = sagemaker.get_execution_role()"
   ]
  },
  {
   "cell_type": "markdown",
   "id": "891cdbf0",
   "metadata": {},
   "source": [
    "Step 2: Provide the path of S3 bucket where the data is stored. Provide the actual bucket name."
   ]
  },
  {
   "cell_type": "code",
   "execution_count": null,
   "id": "93a89b05",
   "metadata": {},
   "outputs": [],
   "source": [
    "#Give the actual bucket name below\n",
    "bucket = \"replace this text with actual bucket name\"\n",
    "prefix = \"dataset\"   # whatever folder structure you use\n",
    "\n",
    "train_path = f\"s3://{bucket}/{prefix}/train\"\n",
    "val_path   = f\"s3://{bucket}/{prefix}/validation\"\n",
    "\n",
    "\n",
    "print(f\"Training path: {train_path}\")\n",
    "print(f\"Validation path: {val_path}\")\n"
   ]
  },
  {
   "cell_type": "markdown",
   "id": "eb59f17b",
   "metadata": {},
   "source": [
    "Step 3: Display the script"
   ]
  },
  {
   "cell_type": "code",
   "execution_count": null,
   "id": "3189f022",
   "metadata": {},
   "outputs": [],
   "source": [
    "!pygmentize train-cnn.py"
   ]
  },
  {
   "cell_type": "markdown",
   "id": "5c6f7b3b",
   "metadata": {},
   "source": [
    "Step 4: Train locally first for 1 epoch. If everything works fine then train externally on an instance for more number of epochs."
   ]
  },
  {
   "cell_type": "code",
   "execution_count": null,
   "id": "b4c16ca6",
   "metadata": {},
   "outputs": [],
   "source": [
    "from sagemaker.tensorflow import TensorFlow\n",
    "\n",
    "tf_estimator = TensorFlow(entry_point=\"train-cnn.py\",\n",
    "                          role=role,\n",
    "                          instance_count=1,\n",
    "                          instance_type=\"local\",\n",
    "                          framework_version=\"2.11\",\n",
    "                          py_version=\"py39\",\n",
    "                          hyperparameters={ \"epochs\": 1}\n",
    ")\n",
    "\n"
   ]
  },
  {
   "cell_type": "markdown",
   "id": "a7991f9b",
   "metadata": {},
   "source": [
    "Step 5: Train for 1 epoch"
   ]
  },
  {
   "cell_type": "code",
   "execution_count": null,
   "id": "3d460eb3",
   "metadata": {},
   "outputs": [],
   "source": [
    "tf_estimator.fit({'training': train_path, 'validation': val_path})"
   ]
  },
  {
   "cell_type": "markdown",
   "id": "5fd19224",
   "metadata": {},
   "source": [
    "Step 6: When things works fine, we can train for more number of epochs. Using ml.m5.large instance type instead of GPU to control the cost. For bigger datasets use instance with GPU."
   ]
  },
  {
   "cell_type": "code",
   "execution_count": null,
   "id": "e97e8018",
   "metadata": {},
   "outputs": [],
   "source": [
    "tf_estimator = TensorFlow(entry_point=\"train-cnn.py\",\n",
    "                          role=role,\n",
    "                          instance_count=1,\n",
    "                          instance_type=\"ml.m5.large\",\n",
    "                          framework_version=\"2.11\",\n",
    "                          py_version=\"py39\",\n",
    "                          hyperparameters={\n",
    "                            \"epochs\": 10,\n",
    "                            \"batch_size\": 32,\n",
    "                            \"learning_rate\": 0.001\n",
    "                          }\n",
    ")"
   ]
  },
  {
   "cell_type": "markdown",
   "id": "96ab5234",
   "metadata": {},
   "source": [
    "Step 7: Train the model\n",
    "\n",
    "Note: Mostly we'll get accuracy around 75% as we're training with small dataset and only for 10 epochs. Increasing dataset and training for more number of epochs shall improve the accuracy. "
   ]
  },
  {
   "cell_type": "code",
   "execution_count": null,
   "id": "26c5324d",
   "metadata": {},
   "outputs": [],
   "source": [
    "tf_estimator.fit({'training': train_path, 'validation': val_path})"
   ]
  },
  {
   "cell_type": "markdown",
   "id": "571a44e1",
   "metadata": {},
   "source": [
    "Step 8: Deploy the model"
   ]
  },
  {
   "cell_type": "code",
   "execution_count": null,
   "id": "82c32d4f",
   "metadata": {},
   "outputs": [],
   "source": [
    "#Endpoint name, this will be used later during inference and cleanup \n",
    "tf_endpoint_name = \"cnn-endpoint\"\n",
    "\n",
    "tf_predictor = tf_estimator.deploy(initial_instance_count=1,\n",
    "                         instance_type='ml.c5.large',        \n",
    "                         endpoint_name=tf_endpoint_name)    "
   ]
  },
  {
   "cell_type": "markdown",
   "id": "b19377ed",
   "metadata": {},
   "source": [
    "Step 9: Make Prediction"
   ]
  },
  {
   "cell_type": "code",
   "execution_count": null,
   "id": "68272c25",
   "metadata": {},
   "outputs": [],
   "source": [
    "from PIL import Image\n",
    "import numpy as np\n",
    "import matplotlib.pyplot as plt\n",
    "import json\n",
    "import boto3\n",
    "\n",
    "# Initialize SageMaker runtime client\n",
    "runtime = boto3.client('sagemaker-runtime', region_name='us-east-1')\n",
    "\n",
    "def predict_image(img_path, endpoint_name):\n",
    "    # Load image and resize\n",
    "    img = Image.open(img_path).convert('RGB')\n",
    "    img = img.resize((128, 128))  # same as training\n",
    "\n",
    "    # Convert to numpy array and normalize\n",
    "    x = np.array(img) / 255.0\n",
    "    x = np.expand_dims(x, axis=0).tolist()  # convert to list for JSON\n",
    "\n",
    "    # Call SageMaker endpoint\n",
    "    response = runtime.invoke_endpoint(\n",
    "        EndpointName=endpoint_name,\n",
    "        ContentType='application/json',\n",
    "        Body=json.dumps({\"instances\": x})\n",
    "    )\n",
    "    result = json.loads(response['Body'].read())\n",
    "    prediction = result['predictions']\n",
    "    predicted_class = int(np.argmax(prediction, axis=1)[0])\n",
    "\n",
    "    print(f\"{img_path} → Predicted Class: {predicted_class}\")\n",
    "\n",
    "    # Show image\n",
    "    plt.imshow(img)\n",
    "    plt.title(f\"Predicted Class: {predicted_class}\")\n",
    "    plt.axis('off')\n",
    "    plt.show()\n",
    "\n",
    "# Example usage, update the test image names as per actual\n",
    "predict_image('dog.jpeg', 'cnn-endpoint')\n",
    "predict_image('elephant.jpeg', 'cnn-endpoint')\n",
    "predict_image('horse.jpeg', 'cnn-endpoint')\n"
   ]
  },
  {
   "cell_type": "markdown",
   "id": "2418b101",
   "metadata": {},
   "source": [
    "Step 10: Cleanup deployment"
   ]
  },
  {
   "cell_type": "code",
   "execution_count": null,
   "id": "3d372d74",
   "metadata": {},
   "outputs": [],
   "source": [
    "sess.delete_endpoint(endpoint_name=tf_endpoint_name)"
   ]
  }
 ],
 "metadata": {
  "kernelspec": {
   "display_name": ".venv",
   "language": "python",
   "name": "python3"
  },
  "language_info": {
   "codemirror_mode": {
    "name": "ipython",
    "version": 3
   },
   "file_extension": ".py",
   "mimetype": "text/x-python",
   "name": "python",
   "nbconvert_exporter": "python",
   "pygments_lexer": "ipython3",
   "version": "3.11.9"
  }
 },
 "nbformat": 4,
 "nbformat_minor": 5
}
